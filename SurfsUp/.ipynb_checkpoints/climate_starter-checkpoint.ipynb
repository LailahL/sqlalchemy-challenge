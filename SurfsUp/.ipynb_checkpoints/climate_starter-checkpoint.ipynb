{
 "cells": [
  {
   "cell_type": "code",
   "execution_count": 1,
   "metadata": {},
   "outputs": [],
   "source": [
    "%matplotlib inline\n",
    "from matplotlib import style\n",
    "style.use('fivethirtyeight')\n",
    "import matplotlib.pyplot as plt"
   ]
  },
  {
   "cell_type": "code",
   "execution_count": 2,
   "metadata": {},
   "outputs": [],
   "source": [
    "import numpy as np\n",
    "import pandas as pd\n",
    "import datetime as dt"
   ]
  },
  {
   "cell_type": "markdown",
   "metadata": {},
   "source": [
    "# Reflect Tables into SQLAlchemy ORM"
   ]
  },
  {
   "cell_type": "code",
   "execution_count": 3,
   "metadata": {},
   "outputs": [],
   "source": [
    "# Python SQL toolkit and Object Relational Mapper\n",
    "import sqlalchemy\n",
    "from sqlalchemy.ext.automap import automap_base\n",
    "from sqlalchemy.orm import Session\n",
    "from sqlalchemy import create_engine, func, inspect"
   ]
  },
  {
   "cell_type": "code",
   "execution_count": 4,
   "metadata": {},
   "outputs": [],
   "source": [
    "# create engine to hawaii.sqlite\n",
    "engine = create_engine(f\"sqlite:///../Resources/hawaii.sqlite\")\n"
   ]
  },
  {
   "cell_type": "code",
   "execution_count": 5,
   "metadata": {},
   "outputs": [],
   "source": [
    "# reflect an existing database into a new model\n",
    "Base=automap_base()\n",
    "\n",
    "\n",
    "# reflect the tables\n",
    "Base.prepare(autoload_with=engine)"
   ]
  },
  {
   "cell_type": "code",
   "execution_count": 6,
   "metadata": {},
   "outputs": [
    {
     "data": {
      "text/plain": [
       "['measurement', 'station']"
      ]
     },
     "execution_count": 6,
     "metadata": {},
     "output_type": "execute_result"
    }
   ],
   "source": [
    "# View all of the classes that automap found\n",
    "Base.classes.keys()"
   ]
  },
  {
   "cell_type": "code",
   "execution_count": 7,
   "metadata": {},
   "outputs": [
    {
     "name": "stdout",
     "output_type": "stream",
     "text": [
      "id INTEGER\n",
      "station TEXT\n",
      "date TEXT\n",
      "prcp FLOAT\n",
      "tobs FLOAT\n"
     ]
    }
   ],
   "source": [
    "# Save references to each table\n",
    "Measurement=Base.classes.measurement\n",
    "Station=Base.classes.station\n",
    "\n",
    "inspector=inspect(engine)\n",
    "columns=inspector.get_columns('measurement')\n",
    "for c in columns:\n",
    "    print (c['name'],c['type'])\n"
   ]
  },
  {
   "cell_type": "code",
   "execution_count": 8,
   "metadata": {},
   "outputs": [
    {
     "name": "stdout",
     "output_type": "stream",
     "text": [
      "id INTEGER\n",
      "station TEXT\n",
      "name TEXT\n",
      "latitude FLOAT\n",
      "longitude FLOAT\n",
      "elevation FLOAT\n"
     ]
    }
   ],
   "source": [
    "columns=inspector.get_columns('station')\n",
    "for c in columns:\n",
    "    print (c['name'],c['type'])"
   ]
  },
  {
   "cell_type": "code",
   "execution_count": 9,
   "metadata": {},
   "outputs": [],
   "source": [
    "# Create our session (link) from Python to the DB\n",
    "session=Session(engine)"
   ]
  },
  {
   "cell_type": "markdown",
   "metadata": {},
   "source": [
    "# Exploratory Precipitation Analysis"
   ]
  },
  {
   "cell_type": "code",
   "execution_count": 10,
   "metadata": {},
   "outputs": [
    {
     "data": {
      "text/plain": [
       "('2017-08-23',)"
      ]
     },
     "execution_count": 10,
     "metadata": {},
     "output_type": "execute_result"
    }
   ],
   "source": [
    "# Find the most recent date in the data set.\n",
    "\n",
    "recent_date=session.query(Measurement.date).order_by(Measurement.date.desc()).first()\n",
    "recent_date\n"
   ]
  },
  {
   "cell_type": "code",
   "execution_count": 11,
   "metadata": {},
   "outputs": [
    {
     "name": "stdout",
     "output_type": "stream",
     "text": [
      "date_last_year 2016-08-23\n",
      "('2016-08-24', 0.08)\n",
      "('2016-08-25', 0.08)\n",
      "('2016-08-26', 0.0)\n",
      "('2016-08-27', 0.0)\n",
      "('2016-08-28', 0.01)\n",
      "('2016-08-29', 0.0)\n",
      "('2016-08-30', 0.0)\n",
      "('2016-08-31', 0.13)\n",
      "('2016-09-01', 0.0)\n",
      "('2016-09-02', 0.0)\n",
      "('2016-09-03', 0.0)\n",
      "('2016-09-04', 0.03)\n",
      "('2016-09-05', None)\n",
      "('2016-09-06', None)\n",
      "('2016-09-07', 0.05)\n",
      "('2016-09-08', 0.0)\n",
      "('2016-09-09', 0.03)\n",
      "('2016-09-10', 0.0)\n",
      "('2016-09-11', 0.05)\n",
      "('2016-09-12', 0.0)\n",
      "('2016-09-13', 0.02)\n",
      "('2016-09-14', 1.32)\n",
      "('2016-09-15', 0.42)\n",
      "('2016-09-16', 0.06)\n",
      "('2016-09-17', 0.05)\n",
      "('2016-09-18', 0.0)\n",
      "('2016-09-19', 0.0)\n",
      "('2016-09-20', 0.0)\n",
      "('2016-09-21', 0.0)\n",
      "('2016-09-22', 0.02)\n",
      "('2016-09-23', 0.0)\n",
      "('2016-09-24', 0.0)\n",
      "('2016-09-25', 0.0)\n",
      "('2016-09-26', 0.06)\n",
      "('2016-09-27', 0.02)\n",
      "('2016-09-28', 0.0)\n",
      "('2016-09-29', 0.0)\n",
      "('2016-09-30', 0.0)\n",
      "('2016-10-01', 0.0)\n",
      "('2016-10-02', 0.0)\n",
      "('2016-10-03', 0.0)\n",
      "('2016-10-04', 0.0)\n",
      "('2016-10-05', 0.0)\n",
      "('2016-10-06', 0.0)\n",
      "('2016-10-07', 0.0)\n",
      "('2016-10-08', 0.0)\n",
      "('2016-10-09', 0.0)\n",
      "('2016-10-10', 0.0)\n",
      "('2016-10-11', 0.0)\n",
      "('2016-10-12', 0.0)\n",
      "('2016-10-13', 0.0)\n",
      "('2016-10-14', 0.0)\n",
      "('2016-10-15', 0.0)\n",
      "('2016-10-16', 0.0)\n",
      "('2016-10-17', 0.01)\n",
      "('2016-10-18', 0.0)\n",
      "('2016-10-19', 0.0)\n",
      "('2016-10-20', 0.0)\n",
      "('2016-10-21', 0.05)\n",
      "('2016-10-22', 0.15)\n",
      "('2016-10-23', 0.01)\n",
      "('2016-10-24', 0.0)\n",
      "('2016-10-25', 0.03)\n",
      "('2016-10-26', 0.0)\n",
      "('2016-10-27', 0.0)\n",
      "('2016-10-28', 0.0)\n",
      "('2016-10-29', 0.0)\n",
      "('2016-10-30', 0.24)\n",
      "('2016-10-31', 0.03)\n",
      "('2016-11-01', 0.0)\n",
      "('2016-11-02', 0.0)\n",
      "('2016-11-03', 0.0)\n",
      "('2016-11-04', 0.0)\n",
      "('2016-11-05', 0.0)\n",
      "('2016-11-06', 0.0)\n",
      "('2016-11-07', 0.0)\n",
      "('2016-11-08', 0.07)\n",
      "('2016-11-09', 0.0)\n",
      "('2016-11-10', 0.0)\n",
      "('2016-11-11', 0.0)\n",
      "('2016-11-12', 0.0)\n",
      "('2016-11-13', 0.0)\n",
      "('2016-11-14', 0.0)\n",
      "('2016-11-15', 0.0)\n",
      "('2016-11-16', 0.0)\n",
      "('2016-11-17', 0.0)\n",
      "('2016-11-18', 0.0)\n",
      "('2016-11-19', 0.03)\n",
      "('2016-11-20', 0.05)\n",
      "('2016-11-21', 0.01)\n",
      "('2016-11-22', 0.13)\n",
      "('2016-11-23', 0.14)\n",
      "('2016-11-24', 0.05)\n",
      "('2016-11-25', 0.05)\n",
      "('2016-11-26', 0.05)\n",
      "('2016-11-27', 0.0)\n",
      "('2016-11-28', 0.01)\n",
      "('2016-11-29', 0.0)\n",
      "('2016-11-30', 0.14)\n",
      "('2016-12-01', 0.12)\n",
      "('2016-12-02', 0.03)\n",
      "('2016-12-03', 0.0)\n",
      "('2016-12-04', 0.03)\n",
      "('2016-12-05', 0.43)\n",
      "('2016-12-06', 0.02)\n",
      "('2016-12-07', 0.0)\n",
      "('2016-12-08', 0.03)\n",
      "('2016-12-09', 0.52)\n",
      "('2016-12-10', 0.05)\n",
      "('2016-12-11', 0.04)\n",
      "('2016-12-12', 0.01)\n",
      "('2016-12-13', 0.05)\n",
      "('2016-12-14', 0.03)\n",
      "('2016-12-15', 0.0)\n",
      "('2016-12-16', 0.0)\n",
      "('2016-12-17', 0.01)\n",
      "('2016-12-18', 0.13)\n",
      "('2016-12-19', 0.01)\n",
      "('2016-12-20', 0.0)\n",
      "('2016-12-21', 0.0)\n",
      "('2016-12-22', 0.01)\n",
      "('2016-12-23', 0.01)\n",
      "('2016-12-24', 0.01)\n",
      "('2016-12-25', 0.0)\n",
      "('2016-12-26', 0.02)\n",
      "('2016-12-27', 0.0)\n",
      "('2016-12-28', 0.02)\n",
      "('2016-12-29', 0.04)\n",
      "('2016-12-30', 0.12)\n",
      "('2016-12-31', 0.01)\n",
      "('2017-01-01', 0.0)\n",
      "('2017-01-02', 0.0)\n",
      "('2017-01-03', 0.0)\n",
      "('2017-01-04', 0.0)\n",
      "('2017-01-05', 0.0)\n",
      "('2017-01-06', 0.0)\n",
      "('2017-01-07', 0.0)\n",
      "('2017-01-08', 0.0)\n",
      "('2017-01-09', 0.0)\n",
      "('2017-01-10', 0.0)\n",
      "('2017-01-11', 0.0)\n",
      "('2017-01-12', 0.0)\n",
      "('2017-01-13', 0.0)\n",
      "('2017-01-14', 0.0)\n",
      "('2017-01-15', 0.0)\n",
      "('2017-01-16', 0.0)\n",
      "('2017-01-17', 0.0)\n",
      "('2017-01-18', 0.0)\n",
      "('2017-01-19', 0.0)\n",
      "('2017-01-20', 0.0)\n",
      "('2017-01-21', 0.0)\n",
      "('2017-01-22', 0.16)\n",
      "('2017-01-23', 0.0)\n",
      "('2017-01-24', 0.04)\n",
      "('2017-01-25', 0.03)\n",
      "('2017-01-26', 0.0)\n",
      "('2017-01-27', 0.0)\n",
      "('2017-01-28', 0.0)\n",
      "('2017-01-29', 0.18)\n",
      "('2017-01-30', 0.0)\n",
      "('2017-01-31', 0.0)\n",
      "('2017-02-01', 0.0)\n",
      "('2017-02-02', 0.0)\n",
      "('2017-02-03', 0.0)\n",
      "('2017-02-04', 0.0)\n",
      "('2017-02-05', 0.0)\n",
      "('2017-02-06', 0.0)\n",
      "('2017-02-07', 0.51)\n",
      "('2017-02-08', 0.0)\n",
      "('2017-02-09', 0.0)\n",
      "('2017-02-10', 0.0)\n",
      "('2017-02-11', 0.31)\n",
      "('2017-02-12', 2.62)\n",
      "('2017-02-13', 0.01)\n",
      "('2017-02-14', 0.0)\n",
      "('2017-02-15', 0.0)\n",
      "('2017-02-16', 0.07)\n",
      "('2017-02-17', 0.0)\n",
      "('2017-02-18', 0.0)\n",
      "('2017-02-19', 0.0)\n",
      "('2017-02-20', 0.0)\n",
      "('2017-02-21', 0.06)\n",
      "('2017-02-22', 0.06)\n",
      "('2017-02-23', 0.01)\n",
      "('2017-02-24', 0.0)\n",
      "('2017-02-25', 0.03)\n",
      "('2017-02-26', 0.0)\n",
      "('2017-02-27', 0.0)\n",
      "('2017-02-28', 0.0)\n",
      "('2017-03-01', 1.19)\n",
      "('2017-03-02', 0.73)\n",
      "('2017-03-03', 0.47)\n",
      "('2017-03-04', 0.0)\n",
      "('2017-03-05', 0.35)\n",
      "('2017-03-06', 0.0)\n",
      "('2017-03-07', 0.0)\n",
      "('2017-03-08', 0.0)\n",
      "('2017-03-09', 0.0)\n",
      "('2017-03-10', 0.0)\n",
      "('2017-03-11', 0.0)\n",
      "('2017-03-12', 0.0)\n",
      "('2017-03-13', 0.0)\n",
      "('2017-03-14', 0.0)\n",
      "('2017-03-15', 0.0)\n",
      "('2017-03-16', 0.0)\n",
      "('2017-03-17', 0.0)\n",
      "('2017-03-18', 0.0)\n",
      "('2017-03-19', 0.0)\n",
      "('2017-03-20', 0.0)\n",
      "('2017-03-21', 0.0)\n",
      "('2017-03-22', 0.0)\n",
      "('2017-03-23', 0.0)\n",
      "('2017-03-24', 0.02)\n",
      "('2017-03-25', 0.0)\n",
      "('2017-03-26', 0.0)\n",
      "('2017-03-27', 0.0)\n",
      "('2017-03-28', 0.0)\n",
      "('2017-03-29', 0.0)\n",
      "('2017-03-30', 0.0)\n",
      "('2017-03-31', 0.0)\n",
      "('2017-04-01', 0.0)\n",
      "('2017-04-02', 0.0)\n",
      "('2017-04-03', 0.0)\n",
      "('2017-04-04', 0.0)\n",
      "('2017-04-05', 0.0)\n",
      "('2017-04-06', 0.0)\n",
      "('2017-04-07', 0.0)\n",
      "('2017-04-08', 0.0)\n",
      "('2017-04-09', 0.0)\n",
      "('2017-04-10', 0.0)\n",
      "('2017-04-11', 0.0)\n",
      "('2017-04-12', 0.0)\n",
      "('2017-04-13', 0.0)\n",
      "('2017-04-14', 0.26)\n",
      "('2017-04-15', 0.01)\n",
      "('2017-04-16', 0.0)\n",
      "('2017-04-17', 0.02)\n",
      "('2017-04-18', 0.0)\n",
      "('2017-04-19', 0.02)\n",
      "('2017-04-20', 0.05)\n",
      "('2017-04-21', 0.23)\n",
      "('2017-04-22', 0.32)\n",
      "('2017-04-23', 0.03)\n",
      "('2017-04-24', 0.0)\n",
      "('2017-04-25', 0.0)\n",
      "('2017-04-26', 0.0)\n",
      "('2017-04-27', 0.0)\n",
      "('2017-04-28', 0.0)\n",
      "('2017-04-29', 0.12)\n",
      "('2017-04-30', 0.89)\n",
      "('2017-05-01', 0.26)\n",
      "('2017-05-02', 0.0)\n",
      "('2017-05-03', 0.0)\n",
      "('2017-05-04', 0.0)\n",
      "('2017-05-05', 0.0)\n",
      "('2017-05-06', 0.0)\n",
      "('2017-05-07', 0.0)\n",
      "('2017-05-08', 0.0)\n",
      "('2017-05-09', 1.62)\n",
      "('2017-05-10', 0.0)\n",
      "('2017-05-11', 0.01)\n",
      "('2017-05-12', 0.0)\n",
      "('2017-05-13', 0.0)\n",
      "('2017-05-14', 0.0)\n",
      "('2017-05-15', 0.05)\n",
      "('2017-05-16', 0.01)\n",
      "('2017-05-17', 0.0)\n",
      "('2017-05-18', 0.01)\n",
      "('2017-05-19', 0.0)\n",
      "('2017-05-20', 0.0)\n",
      "('2017-05-21', 0.0)\n",
      "('2017-05-22', 0.0)\n",
      "('2017-05-23', 0.08)\n",
      "('2017-05-24', 0.13)\n",
      "('2017-05-25', 0.15)\n",
      "('2017-05-26', 0.02)\n",
      "('2017-05-27', 0.01)\n",
      "('2017-05-28', 0.02)\n",
      "('2017-05-29', 0.0)\n",
      "('2017-05-30', 0.26)\n",
      "('2017-05-31', 0.02)\n",
      "('2017-06-01', 0.0)\n",
      "('2017-06-02', 0.0)\n",
      "('2017-06-03', 0.02)\n",
      "('2017-06-04', 0.0)\n",
      "('2017-06-05', 0.0)\n",
      "('2017-06-06', 0.0)\n",
      "('2017-06-07', 0.0)\n",
      "('2017-06-08', 0.0)\n",
      "('2017-06-09', 0.0)\n",
      "('2017-06-10', 0.04)\n",
      "('2017-06-11', 0.08)\n",
      "('2017-06-12', 0.02)\n",
      "('2017-06-13', 0.0)\n",
      "('2017-06-14', 0.0)\n",
      "('2017-06-15', 0.0)\n",
      "('2017-06-16', 0.0)\n",
      "('2017-06-17', 0.0)\n",
      "('2017-06-18', 0.05)\n",
      "('2017-06-19', 0.0)\n",
      "('2017-06-20', 0.02)\n",
      "('2017-06-21', 0.0)\n",
      "('2017-06-22', 0.0)\n",
      "('2017-06-23', 0.0)\n",
      "('2017-06-24', 0.06)\n",
      "('2017-06-25', 0.0)\n",
      "('2017-06-26', 0.0)\n",
      "('2017-06-27', 0.0)\n",
      "('2017-06-28', 0.0)\n",
      "('2017-06-29', 0.0)\n",
      "('2017-06-30', 0.08)\n",
      "('2017-07-01', 0.02)\n",
      "('2017-07-02', 0.02)\n",
      "('2017-07-03', 0.04)\n",
      "('2017-07-04', 0.04)\n",
      "('2017-07-05', 0.0)\n",
      "('2017-07-06', 0.0)\n",
      "('2017-07-07', 0.0)\n",
      "('2017-07-08', 0.0)\n",
      "('2017-07-09', 0.0)\n",
      "('2017-07-10', 0.0)\n",
      "('2017-07-11', 0.0)\n",
      "('2017-07-12', 0.0)\n",
      "('2017-07-13', 0.07)\n",
      "('2017-07-14', 0.02)\n",
      "('2017-07-15', 0.0)\n",
      "('2017-07-16', 0.02)\n",
      "('2017-07-17', 0.03)\n",
      "('2017-07-18', 0.05)\n",
      "('2017-07-19', 0.0)\n",
      "('2017-07-20', 0.03)\n",
      "('2017-07-21', 0.0)\n",
      "('2017-07-22', 0.03)\n",
      "('2017-07-23', 0.0)\n",
      "('2017-07-24', 0.05)\n",
      "('2017-07-25', 0.0)\n",
      "('2017-07-26', 0.0)\n",
      "('2017-07-27', 0.0)\n",
      "('2017-07-28', 0.0)\n",
      "('2017-07-29', 0.0)\n",
      "('2017-07-30', 0.0)\n",
      "('2017-07-31', 0.0)\n",
      "('2017-08-01', 0.02)\n",
      "('2017-08-02', 0.0)\n",
      "('2017-08-03', 0.0)\n",
      "('2017-08-04', 0.02)\n",
      "('2017-08-05', 0.0)\n",
      "('2017-08-06', 0.0)\n",
      "('2017-08-07', 0.0)\n",
      "('2017-08-08', 0.0)\n",
      "('2017-08-09', 0.0)\n",
      "('2017-08-10', 0.0)\n",
      "('2017-08-11', 0.0)\n",
      "('2017-08-12', 0.0)\n",
      "('2017-08-13', 0.0)\n",
      "('2017-08-14', 0.0)\n",
      "('2017-08-15', 0.02)\n",
      "('2017-08-16', 0.0)\n",
      "('2017-08-17', 0.0)\n",
      "('2017-08-18', 0.0)\n",
      "('2017-08-19', 0.0)\n",
      "('2017-08-20', 0.0)\n",
      "('2017-08-21', 0.0)\n",
      "('2017-08-22', 0.0)\n",
      "('2017-08-23', 0.0)\n"
     ]
    }
   ],
   "source": [
    "# Design a query to retrieve the last 12 months of precipitation data and plot the results. \n",
    "\n",
    "# Starting from the most recent data point in the database. \n",
    "precipitation_data=session.query(Measurement.date, Measurement.prcp).\\\n",
    "            filter((Measurement.date)>=dt.datetime(2016, 8, 23)).group_by(Measurement.date).all()\n",
    "\n",
    "# Calculate the date one year from the last date in data set.\n",
    "last_year_date=dt.date(2017, 8, 23)-dt.timedelta(days=365)\n",
    "print(f\"date_last_year {last_year_date}\")\n",
    "\n",
    "# Perform a query to retrieve the data and precipitation scores\n",
    "for prcpdata in precipitation_data:\n",
    "    print(prcpdata)\n",
    "\n",
    "\n",
    "\n",
    "\n",
    "\n"
   ]
  },
  {
   "cell_type": "code",
   "execution_count": 44,
   "metadata": {},
   "outputs": [
    {
     "data": {
      "text/html": [
       "<div>\n",
       "<style scoped>\n",
       "    .dataframe tbody tr th:only-of-type {\n",
       "        vertical-align: middle;\n",
       "    }\n",
       "\n",
       "    .dataframe tbody tr th {\n",
       "        vertical-align: top;\n",
       "    }\n",
       "\n",
       "    .dataframe thead th {\n",
       "        text-align: right;\n",
       "    }\n",
       "</style>\n",
       "<table border=\"1\" class=\"dataframe\">\n",
       "  <thead>\n",
       "    <tr style=\"text-align: right;\">\n",
       "      <th></th>\n",
       "      <th>precipitation</th>\n",
       "    </tr>\n",
       "    <tr>\n",
       "      <th>date</th>\n",
       "      <th></th>\n",
       "    </tr>\n",
       "  </thead>\n",
       "  <tbody>\n",
       "    <tr>\n",
       "      <th>2016-08-24</th>\n",
       "      <td>0.08</td>\n",
       "    </tr>\n",
       "    <tr>\n",
       "      <th>2016-08-25</th>\n",
       "      <td>0.08</td>\n",
       "    </tr>\n",
       "    <tr>\n",
       "      <th>2016-08-26</th>\n",
       "      <td>0.00</td>\n",
       "    </tr>\n",
       "    <tr>\n",
       "      <th>2016-08-27</th>\n",
       "      <td>0.00</td>\n",
       "    </tr>\n",
       "    <tr>\n",
       "      <th>2016-08-28</th>\n",
       "      <td>0.01</td>\n",
       "    </tr>\n",
       "    <tr>\n",
       "      <th>...</th>\n",
       "      <td>...</td>\n",
       "    </tr>\n",
       "    <tr>\n",
       "      <th>2017-08-19</th>\n",
       "      <td>0.00</td>\n",
       "    </tr>\n",
       "    <tr>\n",
       "      <th>2017-08-20</th>\n",
       "      <td>0.00</td>\n",
       "    </tr>\n",
       "    <tr>\n",
       "      <th>2017-08-21</th>\n",
       "      <td>0.00</td>\n",
       "    </tr>\n",
       "    <tr>\n",
       "      <th>2017-08-22</th>\n",
       "      <td>0.00</td>\n",
       "    </tr>\n",
       "    <tr>\n",
       "      <th>2017-08-23</th>\n",
       "      <td>0.00</td>\n",
       "    </tr>\n",
       "  </tbody>\n",
       "</table>\n",
       "<p>365 rows × 1 columns</p>\n",
       "</div>"
      ],
      "text/plain": [
       "            precipitation\n",
       "date                     \n",
       "2016-08-24           0.08\n",
       "2016-08-25           0.08\n",
       "2016-08-26           0.00\n",
       "2016-08-27           0.00\n",
       "2016-08-28           0.01\n",
       "...                   ...\n",
       "2017-08-19           0.00\n",
       "2017-08-20           0.00\n",
       "2017-08-21           0.00\n",
       "2017-08-22           0.00\n",
       "2017-08-23           0.00\n",
       "\n",
       "[365 rows x 1 columns]"
      ]
     },
     "execution_count": 44,
     "metadata": {},
     "output_type": "execute_result"
    }
   ],
   "source": [
    "# Save the query results as a Pandas DataFrame and set the index to the date column\n",
    "precipitation_df=pd.DataFrame(precipitation_data,columns=['date','prcp'])\n",
    "precipitation_dfr=precipitation_df.rename(columns={'prcp':'precipitation'})\n",
    "precipitation_dfr['date']=pd.to_datetime(precipitation_dfr['date'])\n",
    "prcp_date_index=precipitation_dfr.set_index('date')\n",
    "\n",
    "\n",
    "# Sort the dataframe by date\n",
    "prcp_date_index.sort_values('date')\n",
    "prcp_date_index\n",
    "# prcp_date_index.info()"
   ]
  },
  {
   "cell_type": "code",
   "execution_count": 52,
   "metadata": {},
   "outputs": [
    {
     "data": {
      "image/png": "[encoded data removed]",
      "text/plain": [
       "<Figure size 720x432 with 1 Axes>"
      ]
     },
     "metadata": {},
     "output_type": "display_data"
    }
   ],
   "source": [
    "# Use Pandas Plotting with Matplotlib to plot the data\n",
    "\n",
    "fig, ax=plt.subplots(figsize=(10,6))\n",
    "plt.bar(prcp_date_index.index,prcp_date_index['precipitation'].values)\n",
    "# prcp_date_index.plot.bar(prcp_date_index.index,prcp_date_index['precipitation'].values, figsize=(12,6))\n",
    "plt.xlabel(\"Date\")\n",
    "plt.ylabel(\"Inches\")\n",
    "plt.xticks(rotation=90)\n",
    "plt.tight_layout()\n",
    "plt.show()\n",
    "\n"
   ]
  },
  {
   "cell_type": "code",
   "execution_count": 61,
   "metadata": {},
   "outputs": [
    {
     "name": "stdout",
     "output_type": "stream",
     "text": [
      "The average precipitation per month is:       precipitation\n",
      "date               \n",
      "01         0.013226\n",
      "02         0.131429\n",
      "03         0.089032\n",
      "04         0.065000\n",
      "05         0.085484\n",
      "06         0.012333\n",
      "07         0.013548\n",
      "08         0.011613\n",
      "09         0.076071\n",
      "10         0.016774\n",
      "11         0.024333\n",
      "12         0.056452\n"
     ]
    }
   ],
   "source": [
    "# Use Pandas to calcualte the summary statistics for the precipitation data\n",
    "precipitation_mean=precipitation_dfr.groupby(precipitation_dfr['date'].dt.strftime('%m')).mean()\n",
    "print(f'The average precipitation per month is: {precipitation_mean}')"
   ]
  },
  {
   "cell_type": "markdown",
   "metadata": {},
   "source": [
    "# Exploratory Station Analysis"
   ]
  },
  {
   "cell_type": "code",
   "execution_count": 15,
   "metadata": {},
   "outputs": [
    {
     "name": "stdout",
     "output_type": "stream",
     "text": [
      "9\n"
     ]
    }
   ],
   "source": [
    "# Design a query to calculate the total number stations in the dataset\n",
    "station_count=session.query(Measurement.station).group_by(Measurement.station).count()\n",
    "print(station_count)"
   ]
  },
  {
   "cell_type": "code",
   "execution_count": 16,
   "metadata": {},
   "outputs": [
    {
     "name": "stdout",
     "output_type": "stream",
     "text": [
      "Most active station : USC00519523 \n"
     ]
    },
    {
     "data": {
      "text/plain": [
       "[('USC00519523', 2669),\n",
       " ('USC00519397', 2724),\n",
       " ('USC00519281', 2772),\n",
       " ('USC00518838', 511),\n",
       " ('USC00517948', 1372),\n",
       " ('USC00516128', 2612),\n",
       " ('USC00514830', 2202),\n",
       " ('USC00513117', 2709),\n",
       " ('USC00511918', 1979)]"
      ]
     },
     "execution_count": 16,
     "metadata": {},
     "output_type": "execute_result"
    }
   ],
   "source": [
    "# Design a query to find the most active stations (i.e. what stations have the most rows?)\n",
    "most_active_station=session.query(Measurement.station,func.count(Measurement.station)).group_by(Measurement.station).\\\n",
    "            order_by(Measurement.station.desc()).first()\n",
    "print(f\"Most active station : {most_active_station[0]} \")\n",
    "# List the stations and the counts in descending order.\n",
    "station_data=session.query(Measurement.station,func.count(Measurement.station)).group_by(Measurement.station).\\\n",
    "            order_by(Measurement.station.desc()).all()\n",
    "station_data\n",
    "\n"
   ]
  },
  {
   "cell_type": "code",
   "execution_count": 17,
   "metadata": {},
   "outputs": [
    {
     "name": "stdout",
     "output_type": "stream",
     "text": [
      "Lowest Temperature for USC00519523: [(56.0,)]\n",
      "Highest Temperature for USC00519523: [(85.0,)]\n",
      "Average Temperature for USC00519523: [(74.5436493068565,)]\n"
     ]
    }
   ],
   "source": [
    "# Using the most active station id from the previous query, calculate the lowest, highest, and average temperature.\n",
    "lowest_temp=session.query(func.min(Measurement.tobs)).filter(Measurement.station==most_active_station[0]).all()\n",
    "print(f'Lowest Temperature for {most_active_station[0]}: {lowest_temp}')\n",
    "\n",
    "highest_temp=session.query(func.max(Measurement.tobs)).filter(Measurement.station==most_active_station[0]).all()\n",
    "print(f'Highest Temperature for {most_active_station[0]}: {highest_temp}')\n",
    "\n",
    "average_temp=session.query(func.avg(Measurement.tobs)).filter(Measurement.station==most_active_station[0]).all()\n",
    "print(f'Average Temperature for {most_active_station[0]}: {average_temp}')"
   ]
  },
  {
   "cell_type": "code",
   "execution_count": 18,
   "metadata": {},
   "outputs": [
    {
     "data": {
      "text/html": [
       "<div>\n",
       "<style scoped>\n",
       "    .dataframe tbody tr th:only-of-type {\n",
       "        vertical-align: middle;\n",
       "    }\n",
       "\n",
       "    .dataframe tbody tr th {\n",
       "        vertical-align: top;\n",
       "    }\n",
       "\n",
       "    .dataframe thead th {\n",
       "        text-align: right;\n",
       "    }\n",
       "</style>\n",
       "<table border=\"1\" class=\"dataframe\">\n",
       "  <thead>\n",
       "    <tr style=\"text-align: right;\">\n",
       "      <th></th>\n",
       "      <th>Temperature</th>\n",
       "    </tr>\n",
       "  </thead>\n",
       "  <tbody>\n",
       "    <tr>\n",
       "      <th>0</th>\n",
       "      <td>79.0</td>\n",
       "    </tr>\n",
       "    <tr>\n",
       "      <th>1</th>\n",
       "      <td>80.0</td>\n",
       "    </tr>\n",
       "    <tr>\n",
       "      <th>2</th>\n",
       "      <td>84.0</td>\n",
       "    </tr>\n",
       "    <tr>\n",
       "      <th>3</th>\n",
       "      <td>81.0</td>\n",
       "    </tr>\n",
       "    <tr>\n",
       "      <th>4</th>\n",
       "      <td>80.0</td>\n",
       "    </tr>\n",
       "    <tr>\n",
       "      <th>...</th>\n",
       "      <td>...</td>\n",
       "    </tr>\n",
       "    <tr>\n",
       "      <th>331</th>\n",
       "      <td>83.0</td>\n",
       "    </tr>\n",
       "    <tr>\n",
       "      <th>332</th>\n",
       "      <td>85.0</td>\n",
       "    </tr>\n",
       "    <tr>\n",
       "      <th>333</th>\n",
       "      <td>82.0</td>\n",
       "    </tr>\n",
       "    <tr>\n",
       "      <th>334</th>\n",
       "      <td>82.0</td>\n",
       "    </tr>\n",
       "    <tr>\n",
       "      <th>335</th>\n",
       "      <td>82.0</td>\n",
       "    </tr>\n",
       "  </tbody>\n",
       "</table>\n",
       "<p>336 rows × 1 columns</p>\n",
       "</div>"
      ],
      "text/plain": [
       "     Temperature\n",
       "0           79.0\n",
       "1           80.0\n",
       "2           84.0\n",
       "3           81.0\n",
       "4           80.0\n",
       "..           ...\n",
       "331         83.0\n",
       "332         85.0\n",
       "333         82.0\n",
       "334         82.0\n",
       "335         82.0\n",
       "\n",
       "[336 rows x 1 columns]"
      ]
     },
     "execution_count": 18,
     "metadata": {},
     "output_type": "execute_result"
    }
   ],
   "source": [
    "# Using the most active station id\n",
    "# Query the last 12 months of temperature observation data for this station and plot the results as a histogram\n",
    "most_active_temp=session.query(Measurement.tobs).filter((Measurement.station==most_active_station[0]),\\\n",
    "            (Measurement.date)>=dt.datetime(2016, 8, 23)).all()\n",
    "most_active_temp_df=pd.DataFrame(most_active_temp,columns=['tobs'])\n",
    "most_active_temp_df=most_active_temp_df.rename(columns=({'tobs':'Temperature'}))\n",
    "most_active_temp_df"
   ]
  },
  {
   "cell_type": "code",
   "execution_count": 34,
   "metadata": {},
   "outputs": [
    {
     "data": {
      "image/png": "[encoded data removed]",
      "text/plain": [
       "<Figure size 432x288 with 1 Axes>"
      ]
     },
     "metadata": {},
     "output_type": "display_data"
    }
   ],
   "source": [
    "plt.hist(most_active_temp_df['Temperature'].values)\n",
    "plt.xlabel(\"Temperature\")\n",
    "plt.ylabel(\"Frequency\")\n",
    "\n",
    "\n",
    "plt.show()"
   ]
  },
  {
   "cell_type": "markdown",
   "metadata": {},
   "source": [
    "# Close session"
   ]
  },
  {
   "cell_type": "code",
   "execution_count": 20,
   "metadata": {},
   "outputs": [],
   "source": [
    "# Close Session\n",
    "session.close()"
   ]
  },
  {
   "cell_type": "code",
   "execution_count": null,
   "metadata": {},
   "outputs": [],
   "source": []
  }
 ],
 "metadata": {
  "anaconda-cloud": {},
  "kernel_info": {
   "name": "python3"
  },
  "kernelspec": {
   "display_name": "Python 3 (ipykernel)",
   "language": "python",
   "name": "python3"
  },
  "language_info": {
   "codemirror_mode": {
    "name": "ipython",
    "version": 3
   },
   "file_extension": ".py",
   "mimetype": "text/x-python",
   "name": "python",
   "nbconvert_exporter": "python",
   "pygments_lexer": "ipython3",
   "version": "3.7.7"
  },
  "nteract": {
   "version": "0.12.3"
  },
  "varInspector": {
   "cols": {
    "lenName": 16,
    "lenType": 16,
    "lenVar": 40
   },
   "kernels_config": {
    "python": {
     "delete_cmd_postfix": "",
     "delete_cmd_prefix": "del ",
     "library": "var_list.py",
     "varRefreshCmd": "print(var_dic_list())"
    },
    "r": {
     "delete_cmd_postfix": ") ",
     "delete_cmd_prefix": "rm(",
     "library": "var_list.r",
     "varRefreshCmd": "cat(var_dic_list()) "
    }
   },
   "types_to_exclude": [
    "module",
    "function",
    "builtin_function_or_method",
    "instance",
    "_Feature"
   ],
   "window_display": false
  }
 },
 "nbformat": 4,
 "nbformat_minor": 2
}
